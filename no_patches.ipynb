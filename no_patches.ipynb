{
 "cells": [
  {
   "cell_type": "markdown",
   "metadata": {},
   "source": [
    "# Run Evaluation for SynthRet images without patches\n",
    "Settings:"
   ]
  },
  {
   "cell_type": "code",
   "execution_count": 2,
   "metadata": {},
   "outputs": [],
   "source": [
    "settings = '''\n",
    "[data paths]\n",
    "path_local =  ./RetinaUnet/SynthRet_datasets_training_testing/\n",
    "train_imgs_original = SynthRet_dataset_imgs_train.hdf5\n",
    "train_groundTruth = SynthRet_dataset_groundTruth_train.hdf5\n",
    "test_imgs_original = DRIVE_dataset_imgs_test.hdf5\n",
    "test_groundTruth = DRIVE_dataset_groundTruth_test.hdf5\n",
    "test_border_masks = DRIVE_dataset_borderMasks_test.hdf5\n",
    "\n",
    "\n",
    "\n",
    "[experiment name]\n",
    "name = evalSynthRet\n",
    "\n",
    "\n",
    "[data attributes]\n",
    "#Dimensions of the patches extracted from the full images\n",
    "patch_height = 300\n",
    "patch_width = 300\n",
    "\n",
    "\n",
    "[training settings]\n",
    "#number of total patches:\n",
    "N_subimgs = 200\n",
    "#if patches are extracted only inside the field of view:\n",
    "inside_FOV = False\n",
    "#Number of training epochs\n",
    "N_epochs = 150\n",
    "batch_size = 32\n",
    "#if running with nohup\n",
    "nohup = True\n",
    "\n",
    "\n",
    "[testing settings]\n",
    "#Choose the model to test: best==epoch with min loss, last==last epoch\n",
    "best_last = best\n",
    "#number of full images for the test (max 20)\n",
    "full_images_to_test = 20\n",
    "#How many original-groundTruth-prediction images are visualized in each image\n",
    "N_group_visual = 1\n",
    "#Compute average in the prediction, improve results but require more patches to be predicted\n",
    "average_mode = False\n",
    "#Only if average_mode==True. Stride for patch extraction, lower value require more patches to be predicted\n",
    "stride_height = 5\n",
    "stride_width = 5\n",
    "#if running with nohup\n",
    "nohup = True\n",
    "'''\n",
    "\n",
    "with open(\"./RetinaUnet/configuration.txt\", \"w\") as text_file:\n",
    "    text_file.write(settings)\n"
   ]
  },
  {
   "cell_type": "markdown",
   "metadata": {},
   "source": [
    "# prepare data for training"
   ]
  },
  {
   "cell_type": "code",
   "execution_count": null,
   "metadata": {},
   "outputs": [],
   "source": [
    "from RetinaUnet import prepare_dataset_SynthRet"
   ]
  },
  {
   "cell_type": "markdown",
   "metadata": {},
   "source": [
    "# train"
   ]
  },
  {
   "cell_type": "code",
   "execution_count": null,
   "metadata": {},
   "outputs": [],
   "source": [
    "from RetinaUnet import run_training_SynthRet"
   ]
  },
  {
   "cell_type": "markdown",
   "metadata": {},
   "source": [
    "# test"
   ]
  },
  {
   "cell_type": "code",
   "execution_count": null,
   "metadata": {},
   "outputs": [],
   "source": [
    "from RetinaUnet import run_testing_SynthRet"
   ]
  }
 ],
 "metadata": {
  "kernelspec": {
   "display_name": "Python 2",
   "language": "python",
   "name": "python2"
  },
  "language_info": {
   "codemirror_mode": {
    "name": "ipython",
    "version": 2
   },
   "file_extension": ".py",
   "mimetype": "text/x-python",
   "name": "python",
   "nbconvert_exporter": "python",
   "pygments_lexer": "ipython2",
   "version": "2.7.15"
  }
 },
 "nbformat": 4,
 "nbformat_minor": 2
}
