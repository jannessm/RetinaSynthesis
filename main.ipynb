{
 "cells": [
  {
   "cell_type": "code",
   "execution_count": 1,
   "metadata": {},
   "outputs": [
    {
     "name": "stdout",
     "output_type": "stream",
     "text": [
      "Using matplotlib backend: MacOSX\n"
     ]
    }
   ],
   "source": [
    "%matplotlib"
   ]
  },
  {
   "cell_type": "markdown",
   "metadata": {},
   "source": [
    "# generate Images"
   ]
  },
  {
   "cell_type": "code",
   "execution_count": 2,
   "metadata": {
    "scrolled": false
   },
   "outputs": [
    {
     "name": "stderr",
     "output_type": "stream",
     "text": [
      "\r",
      "  0%|          | 0/1 [00:00<?, ?it/s]"
     ]
    },
    {
     "name": "stdout",
     "output_type": "stream",
     "text": [
      "\n",
      "Start generating 1 images\n"
     ]
    },
    {
     "name": "stderr",
     "output_type": "stream",
     "text": [
      "/usr/local/lib/python2.7/site-packages/skimage/transform/_warps.py:84: UserWarning: The default mode, 'constant', will be changed to 'reflect' in skimage 0.15.\n",
      "  warn(\"The default mode, 'constant', will be changed to 'reflect' in \"\n",
      "100%|██████████| 1/1 [01:13<00:00, 73.38s/it]"
     ]
    },
    {
     "name": "stdout",
     "output_type": "stream",
     "text": [
      "./images/vessel0.jpg\n",
      "./groundtruths/vessel0.jpg\n",
      "\n",
      "1 pictures needed 73.4095599651 sec!\n",
      "\n"
     ]
    },
    {
     "name": "stderr",
     "output_type": "stream",
     "text": [
      "\n",
      "/usr/local/lib/python2.7/site-packages/matplotlib/cbook/deprecation.py:107: MatplotlibDeprecationWarning: Adding an axes using the same arguments as a previous axes currently reuses the earlier instance.  In a future version, a new instance will always be created and returned.  Meanwhile, this warning can be suppressed, and the future behavior ensured, by passing a unique label to each axes instance.\n",
      "  warnings.warn(message, mplDeprecation, stacklevel=1)\n"
     ]
    }
   ],
   "source": [
    "from SynthRet import generateImages\n",
    "\n",
    "images = 1\n",
    "generateImages(images, showImages=True, save=True)"
   ]
  },
  {
   "cell_type": "markdown",
   "metadata": {},
   "source": [
    "# prepare data for training\n",
    "no patches"
   ]
  },
  {
   "cell_type": "code",
   "execution_count": 4,
   "metadata": {
    "scrolled": true
   },
   "outputs": [
    {
     "name": "stdout",
     "output_type": "stream",
     "text": [
      "original image: vessel0.jpg\n",
      "ground truth name: vessel0.jpg\n",
      "imgs max: 255.0\n",
      "imgs min: 0.0\n",
      "saving train datasets\n",
      "original image: 16_test.tif\n",
      "ground truth name: 16_manual1.gif\n",
      "border masks name: 16_test_mask.gif\n",
      "original image: 17_test.tif\n",
      "ground truth name: 17_manual1.gif\n",
      "border masks name: 17_test_mask.gif\n",
      "original image: 01_test.tif\n",
      "ground truth name: 01_manual1.gif\n",
      "border masks name: 01_test_mask.gif\n",
      "original image: 06_test.tif\n",
      "ground truth name: 06_manual1.gif\n",
      "border masks name: 06_test_mask.gif\n",
      "original image: 07_test.tif\n",
      "ground truth name: 07_manual1.gif\n",
      "border masks name: 07_test_mask.gif\n",
      "original image: 11_test.tif\n",
      "ground truth name: 11_manual1.gif\n",
      "border masks name: 11_test_mask.gif\n",
      "original image: 10_test.tif\n",
      "ground truth name: 10_manual1.gif\n",
      "border masks name: 10_test_mask.gif\n",
      "original image: 02_test.tif\n",
      "ground truth name: 02_manual1.gif\n",
      "border masks name: 02_test_mask.gif\n",
      "original image: 03_test.tif\n",
      "ground truth name: 03_manual1.gif\n",
      "border masks name: 03_test_mask.gif\n",
      "original image: 08_test.tif\n",
      "ground truth name: 08_manual1.gif\n",
      "border masks name: 08_test_mask.gif\n",
      "original image: 09_test.tif\n",
      "ground truth name: 09_manual1.gif\n",
      "border masks name: 09_test_mask.gif\n",
      "original image: 15_test.tif\n",
      "ground truth name: 15_manual1.gif\n",
      "border masks name: 15_test_mask.gif\n",
      "original image: 14_test.tif\n",
      "ground truth name: 14_manual1.gif\n",
      "border masks name: 14_test_mask.gif\n",
      "original image: 20_test.tif\n",
      "ground truth name: 20_manual1.gif\n",
      "border masks name: 20_test_mask.gif\n",
      "original image: 12_test.tif\n",
      "ground truth name: 12_manual1.gif\n",
      "border masks name: 12_test_mask.gif\n",
      "original image: 13_test.tif\n",
      "ground truth name: 13_manual1.gif\n",
      "border masks name: 13_test_mask.gif\n",
      "original image: 18_test.tif\n",
      "ground truth name: 18_manual1.gif\n",
      "border masks name: 18_test_mask.gif\n",
      "original image: 19_test.tif\n",
      "ground truth name: 19_manual1.gif\n",
      "border masks name: 19_test_mask.gif\n",
      "original image: 05_test.tif\n",
      "ground truth name: 05_manual1.gif\n",
      "border masks name: 05_test_mask.gif\n",
      "original image: 04_test.tif\n",
      "ground truth name: 04_manual1.gif\n",
      "border masks name: 04_test_mask.gif\n",
      "imgs max: 255.0\n",
      "imgs min: 0.0\n",
      "saving test datasets\n"
     ]
    }
   ],
   "source": [
    "from RetinaUnet import prepare_datasets_SynthRet"
   ]
  },
  {
   "cell_type": "markdown",
   "metadata": {},
   "source": [
    "with patches"
   ]
  },
  {
   "cell_type": "code",
   "execution_count": null,
   "metadata": {},
   "outputs": [],
   "source": [
    "from RetinaUnet import prepare_dataset_SynthRet_Patches"
   ]
  },
  {
   "cell_type": "markdown",
   "metadata": {},
   "source": [
    "# train\n",
    "no patches:"
   ]
  },
  {
   "cell_type": "code",
   "execution_count": 5,
   "metadata": {},
   "outputs": [
    {
     "name": "stdout",
     "output_type": "stream",
     "text": [
      "\n",
      "1. Create directory for the results (if not already existing)\n",
      "Dir already existing\n",
      "copy the configuration file in the results folder\n",
      "\n",
      "2. Run the training on GPU with nohup\n"
     ]
    }
   ],
   "source": [
    "from RetinaUnet import run_training_SynthRet"
   ]
  },
  {
   "cell_type": "markdown",
   "metadata": {},
   "source": [
    "\n",
    "\n",
    "with patches:"
   ]
  },
  {
   "cell_type": "code",
   "execution_count": null,
   "metadata": {},
   "outputs": [],
   "source": [
    "from RetinaUnet import run_training_SynthRet_Patches"
   ]
  },
  {
   "cell_type": "markdown",
   "metadata": {},
   "source": [
    "# test\n",
    "no patches:"
   ]
  },
  {
   "cell_type": "code",
   "execution_count": null,
   "metadata": {},
   "outputs": [],
   "source": [
    "from RetinaUnet import run_testing_SynthRet"
   ]
  },
  {
   "cell_type": "markdown",
   "metadata": {},
   "source": [
    "with patches:"
   ]
  },
  {
   "cell_type": "code",
   "execution_count": null,
   "metadata": {},
   "outputs": [],
   "source": [
    "from RetinaUnet import run_testing_SynthRet_Patches"
   ]
  }
 ],
 "metadata": {
  "kernelspec": {
   "display_name": "Python 2",
   "language": "python",
   "name": "python2"
  },
  "language_info": {
   "codemirror_mode": {
    "name": "ipython",
    "version": 2
   },
   "file_extension": ".py",
   "mimetype": "text/x-python",
   "name": "python",
   "nbconvert_exporter": "python",
   "pygments_lexer": "ipython2",
   "version": "2.7.15"
  }
 },
 "nbformat": 4,
 "nbformat_minor": 2
}
